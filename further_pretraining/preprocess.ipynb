{
 "cells": [
  {
   "cell_type": "code",
   "execution_count": null,
   "metadata": {},
   "outputs": [],
   "source": [
    "import re\n",
    "\n",
    "import nltk\n",
    "import pandas as pd\n",
    "\n",
    "nltk.download('punkt')"
   ]
  },
  {
   "cell_type": "code",
   "execution_count": null,
   "metadata": {},
   "outputs": [],
   "source": [
    "dataset1 = pd.read_csv(\"datasets/paper_title_abstract.tsv\", sep=\"\\t\", header=0)\n",
    "dataset2 = pd.read_csv(\"datasets/task1_trainset.csv\")\n",
    "dataset3 = pd.read_csv(\"datasets/task1_public_testset.csv\")\n",
    "\n",
    "dataset1 = list(dataset1[\"Abstract\"])\n",
    "dataset2 = [ abstract.replace(\"$$$\", \"\") for abstract in dataset2[\"Abstract\"] ]\n",
    "dataset3 = [ abstract.replace(\"$$$\", \"\") for abstract in dataset3[\"Abstract\"] ]"
   ]
  },
  {
   "cell_type": "code",
   "execution_count": null,
   "metadata": {},
   "outputs": [],
   "source": [
    "total_dataset = dataset1 + dataset2 + dataset3\n",
    "len(total_dataset)"
   ]
  },
  {
   "cell_type": "code",
   "execution_count": null,
   "metadata": {},
   "outputs": [],
   "source": [
    "pattern = r\"[(https?:\\/\\/)|(www\\.)]+[-a-zA-Z0-9@:%._\\+~#=]{1,256}\\.[a-zA-Z0-9()]{1,6}\\b([-a-zA-Z0-9()@:%_\\+.~#?&//=]*)\""
   ]
  },
  {
   "cell_type": "code",
   "execution_count": null,
   "metadata": {},
   "outputs": [],
   "source": [
    "from multiprocessing import Pool\n",
    "from tqdm import *\n",
    "\n",
    "def tokeinze(text):\n",
    "    clean_url = re.sub(pattern, \"\", text)\n",
    "    token = nltk.word_tokenize(clean_url)\n",
    "    return \" \".join(token)\n",
    "\n",
    "\n",
    "with Pool(processes=8) as p:\n",
    "    token_dataset = []\n",
    "    for i, result in tqdm(enumerate(p.imap_unordered(tokeinze, total_dataset)), total=len(total_dataset)):\n",
    "        token_dataset.append(result)"
   ]
  },
  {
   "cell_type": "code",
   "execution_count": null,
   "metadata": {},
   "outputs": [],
   "source": [
    "from sklearn.utils import shuffle\n",
    "from sklearn.model_selection import train_test_split\n",
    "\n",
    "trainset, validset = train_test_split(token_dataset, test_size=0.05, random_state=42)\n",
    "print(len(trainset), len(validset))"
   ]
  },
  {
   "cell_type": "code",
   "execution_count": null,
   "metadata": {},
   "outputs": [],
   "source": [
    "train_text = \"\\n\\n\".join(trainset)\n",
    "with open(\"datas/train.txt\", \"w\") as writer:\n",
    "    writer.write(train_text)\n",
    "    \n",
    "validset = \"\\n\\n\".join(validset)\n",
    "with open(\"datas/valid.txt\", \"w\") as writer:\n",
    "    writer.write(validset)"
   ]
  }
 ],
 "metadata": {
  "kernelspec": {
   "display_name": "Python 3",
   "language": "python",
   "name": "python3"
  },
  "language_info": {
   "codemirror_mode": {
    "name": "ipython",
    "version": 3
   },
   "file_extension": ".py",
   "mimetype": "text/x-python",
   "name": "python",
   "nbconvert_exporter": "python",
   "pygments_lexer": "ipython3",
   "version": "3.6.8"
  }
 },
 "nbformat": 4,
 "nbformat_minor": 4
}
