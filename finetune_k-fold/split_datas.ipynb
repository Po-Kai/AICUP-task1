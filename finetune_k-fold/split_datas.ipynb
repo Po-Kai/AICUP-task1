{
 "cells": [
  {
   "cell_type": "code",
   "execution_count": null,
   "metadata": {},
   "outputs": [],
   "source": [
    "import pandas as pd\n",
    "from sklearn.utils import shuffle"
   ]
  },
  {
   "cell_type": "code",
   "execution_count": null,
   "metadata": {},
   "outputs": [],
   "source": [
    "dataset = pd.read_csv(\"datas/task1_trainset.csv\", dtype=str)\n",
    "dataset.head()"
   ]
  },
  {
   "cell_type": "code",
   "execution_count": null,
   "metadata": {},
   "outputs": [],
   "source": [
    "dataset.drop(\"Title\",axis=1,inplace=True)\n",
    "dataset.drop(\"Categories\",axis=1,inplace=True)\n",
    "dataset.drop(\"Created Date\",axis=1, inplace=True)\n",
    "dataset.drop(\"Authors\",axis=1,inplace=True)"
   ]
  },
  {
   "cell_type": "code",
   "execution_count": null,
   "metadata": {},
   "outputs": [],
   "source": [
    "dataset = shuffle(dataset, random_state=42)"
   ]
  },
  {
   "cell_type": "code",
   "execution_count": null,
   "metadata": {},
   "outputs": [],
   "source": [
    "\"\"\"\n",
    "10-fold split\n",
    "\"\"\"\n",
    "split_size = 0.1\n",
    "data_len = len(dataset)\n",
    "split_len = int(data_len*split_size)\n",
    "\n",
    "dataset_splits = [] \n",
    "for idx in range(10):\n",
    "    start_idx = split_len * idx\n",
    "    end_idx = start_idx + split_len\n",
    "    \n",
    "    trainset = pd.concat([dataset[0:start_idx], dataset[end_idx:]], axis=0)\n",
    "    validset = dataset[start_idx:end_idx]\n",
    "\n",
    "    trainset.to_csv(\"datasets/k10/trainset_{}.csv\".format(idx), index=False)\n",
    "    validset.to_csv(\"datasets/k10/validset_{}.csv\".format(idx), index=False)"
   ]
  }
 ],
 "metadata": {
  "kernelspec": {
   "display_name": "Python 3",
   "language": "python",
   "name": "python3"
  },
  "language_info": {
   "codemirror_mode": {
    "name": "ipython",
    "version": 3
   },
   "file_extension": ".py",
   "mimetype": "text/x-python",
   "name": "python",
   "nbconvert_exporter": "python",
   "pygments_lexer": "ipython3",
   "version": "3.6.8"
  }
 },
 "nbformat": 4,
 "nbformat_minor": 4
}
