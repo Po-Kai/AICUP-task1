{
 "cells": [
  {
   "cell_type": "code",
   "execution_count": null,
   "metadata": {},
   "outputs": [],
   "source": [
    "import os\n",
    "\n",
    "import torch\n",
    "from tqdm import tqdm\n",
    "from transformers import (\n",
    "    RobertaForSequenceClassification,\n",
    ")"
   ]
  },
  {
   "cell_type": "code",
   "execution_count": null,
   "metadata": {},
   "outputs": [],
   "source": [
    "# (k_value, best_steps)\n",
    "best_ckpts = [\n",
    "    (0, 500),\n",
    "    (1, 550),\n",
    "    (2, 375),\n",
    "    (3, 325),\n",
    "    (4, 350),\n",
    "    (5, 475),\n",
    "    (6, 500),\n",
    "    (7, 525),\n",
    "    (8, 525),\n",
    "    (9, 400),\n",
    "]"
   ]
  },
  {
   "cell_type": "code",
   "execution_count": null,
   "metadata": {},
   "outputs": [],
   "source": [
    "\"\"\"\n",
    "convert huggingface ckpt to fairseq ckpt\n",
    "\"\"\"\n",
    "\n",
    "temp_dir = \"temp_ckpts/k10\"\n",
    "if not os.path.exists(temp_dir):\n",
    "    os.makedirs(temp_dir)\n",
    "    \n",
    "for idx, ckpt_idx in tqdm(best_ckpts):\n",
    "    path = \"outputs/roberta-large_k10/{}/checkpoint-{}\".format(idx, ckpt_idx)\n",
    "    model = RobertaForSequenceClassification.from_pretrained(path)\n",
    "    torch.save(model.state_dict(), os.path.join(temp_dir, \"checkpoint{}.pt\".format(idx)))"
   ]
  },
  {
   "cell_type": "code",
   "execution_count": null,
   "metadata": {},
   "outputs": [],
   "source": [
    "\"\"\"\n",
    "average checkpoints\n",
    "\"\"\"\n",
    "!python average_checkpoints.py \\\n",
    "    --inputs=temp_ckpts/k10 \\\n",
    "    --output=temp_ckpts/k10/checkpoint_average.pt \\\n",
    "    --num-epoch-checkpoints=10"
   ]
  },
  {
   "cell_type": "code",
   "execution_count": null,
   "metadata": {},
   "outputs": [],
   "source": [
    "\"\"\"\n",
    "convert fairseq ckpt to huggingface ckpt\n",
    "\"\"\"\n",
    "output_dir = os.path.join(\"outputs/roberta-large_k10\", \"checkpoint-average\")\n",
    "if not os.path.exists(output_dir):\n",
    "    os.makedirs(output_dir)\n",
    "    \n",
    "model = RobertaForSequenceClassification.from_pretrained(\"roberta-large\", num_labels=6)\n",
    "model.load_state_dict(torch.load(os.path.join(temp_dir, \"checkpoint_average.pt\"))[\"model\"])\n",
    "model.save_pretrained(output_dir)"
   ]
  },
  {
   "cell_type": "code",
   "execution_count": null,
   "metadata": {},
   "outputs": [],
   "source": [
    "os.rmdir(temp_dir)"
   ]
  }
 ],
 "metadata": {
  "kernelspec": {
   "display_name": "Python 3",
   "language": "python",
   "name": "python3"
  },
  "language_info": {
   "codemirror_mode": {
    "name": "ipython",
    "version": 3
   },
   "file_extension": ".py",
   "mimetype": "text/x-python",
   "name": "python",
   "nbconvert_exporter": "python",
   "pygments_lexer": "ipython3",
   "version": "3.6.8"
  }
 },
 "nbformat": 4,
 "nbformat_minor": 4
}
